{
 "cells": [
  {
   "cell_type": "code",
   "execution_count": 23,
   "metadata": {},
   "outputs": [],
   "source": [
    "import pandas as pd\n",
    "import joblib\n",
    "from sklearn.preprocessing import StandardScaler\n"
   ]
  },
  {
   "cell_type": "code",
   "execution_count": 24,
   "metadata": {},
   "outputs": [],
   "source": [
    "# Loading the trained model and scaler\n",
    "model = joblib.load('diet_recommendation_model.pkl') "
   ]
  },
  {
   "cell_type": "code",
   "execution_count": 25,
   "metadata": {},
   "outputs": [
    {
     "data": {
      "text/plain": [
       "''"
      ]
     },
     "execution_count": 25,
     "metadata": {},
     "output_type": "execute_result"
    }
   ],
   "source": [
    "# Collect user input\n",
    "age = int(input(\"Enter your age: \"))\n",
    "weight = float(input(\"Enter your weight (kg): \"))\n",
    "height = float(input(\"Enter your height (m): \"))\n",
    "gender = int(input(\"Enter your gender (0 for male, 1 for female): \"))\n",
    "activity_level = float(input(\"Enter your activity level (1 to 5): \"))\n",
    "goal = input(\"Enter your goal (e.g., Lose weight, Maintain weight, Gain muscle): \")\n",
    "_"
   ]
  },
  {
   "cell_type": "code",
   "execution_count": 26,
   "metadata": {},
   "outputs": [],
   "source": [
    "import pandas as pd\n",
    "\n",
    "# Create DataFrame from user input\n",
    "user_data = {\n",
    "    'age': [age],\n",
    "    'weight(kg)': [weight],\n",
    "    'height(m)': [height],\n",
    "    'gender': [gender],\n",
    "    'activity_level': [activity_level],\n",
    "    'goal': [goal]\n",
    "}\n",
    "\n",
    "user_df = pd.DataFrame(user_data)\n"
   ]
  },
  {
   "cell_type": "code",
   "execution_count": 27,
   "metadata": {},
   "outputs": [],
   "source": [
    "# Load the saved X_train and model\n",
    "X_train = joblib.load('X_train.pkl')\n",
    "model = joblib.load('diet_model.pkl')"
   ]
  },
  {
   "cell_type": "code",
   "execution_count": 28,
   "metadata": {},
   "outputs": [],
   "source": [
    "# One-hot encode the user data (ensure that the same columns are used as in the model training)\n",
    "user_df_encoded = pd.get_dummies(user_df, drop_first=True)\n",
    "\n",
    "# If the training data had certain columns that are missing in the user input, \n",
    "# we need to add those columns manually with 0 values\n",
    "for col in X_train.columns:\n",
    "    if col not in user_df_encoded.columns:\n",
    "        user_df_encoded[col] = 0\n"
   ]
  },
  {
   "cell_type": "code",
   "execution_count": 29,
   "metadata": {},
   "outputs": [],
   "source": [
    "user_df_encoded = user_df_encoded[X_train.columns]\n"
   ]
  },
  {
   "cell_type": "code",
   "execution_count": 30,
   "metadata": {},
   "outputs": [],
   "source": [
    "# Step 1: Predict the label using the trained model\n",
    "predicted_label = model.predict(user_df_encoded)[0]  # [0] to get the single value prediction\n"
   ]
  },
  {
   "cell_type": "code",
   "execution_count": 31,
   "metadata": {},
   "outputs": [],
   "source": [
    "diet_plan_map = {\n",
    "    0: \"High-protein diet plan with 1800 calories/day.\",\n",
    "    1: \"Low-carb vegetarian plan with 1500 calories/day.\",\n",
    "    2: \"Low-fat diet plan with 1600 calories/day.\",\n",
    "    3: \"Keto diet plan with 2000 calories/day.\",\n",
    "    4: \"Balanced diet plan with 1800 calories/day.\",\n",
    "    5: \"Low-sodium diet plan with 1700 calories/day.\",\n",
    "    6: \"Vegan diet plan with 1500 calories/day.\",\n",
    "    7: \"Mediterranean diet plan with 1800 calories/day.\",\n",
    "}"
   ]
  },
  {
   "cell_type": "code",
   "execution_count": 32,
   "metadata": {},
   "outputs": [],
   "source": [
    "diet_plan = diet_plan_map.get(predicted_label, \"Unknown diet plan\")"
   ]
  },
  {
   "cell_type": "code",
   "execution_count": 33,
   "metadata": {},
   "outputs": [
    {
     "name": "stdout",
     "output_type": "stream",
     "text": [
      "Your recommended diet plan is: High-protein diet plan with 1800 calories/day.\n"
     ]
    }
   ],
   "source": [
    "# Step 3: Output the result to the user\n",
    "print(f\"Your recommended diet plan is: {diet_plan}\")\n"
   ]
  }
 ],
 "metadata": {
  "kernelspec": {
   "display_name": "base",
   "language": "python",
   "name": "python3"
  },
  "language_info": {
   "codemirror_mode": {
    "name": "ipython",
    "version": 3
   },
   "file_extension": ".py",
   "mimetype": "text/x-python",
   "name": "python",
   "nbconvert_exporter": "python",
   "pygments_lexer": "ipython3",
   "version": "3.11.7"
  }
 },
 "nbformat": 4,
 "nbformat_minor": 2
}
